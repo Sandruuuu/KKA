{
  "nbformat": 4,
  "nbformat_minor": 0,
  "metadata": {
    "colab": {
      "provenance": [],
      "authorship_tag": "ABX9TyNnA17hRH5h8AZ5I8B5w34m",
      "include_colab_link": true
    },
    "kernelspec": {
      "name": "python3",
      "display_name": "Python 3"
    },
    "language_info": {
      "name": "python"
    }
  },
  "cells": [
    {
      "cell_type": "markdown",
      "metadata": {
        "id": "view-in-github",
        "colab_type": "text"
      },
      "source": [
        "<a href=\"https://colab.research.google.com/github/Sandruuuu/KKA/blob/main/Praktikum_KKA.ipynb\" target=\"_parent\"><img src=\"https://colab.research.google.com/assets/colab-badge.svg\" alt=\"Open In Colab\"/></a>"
      ]
    },
    {
      "cell_type": "code",
      "source": [
        "import pandas as pd"
      ],
      "metadata": {
        "id": "xG-Mvknr4-Rs"
      },
      "execution_count": null,
      "outputs": []
    },
    {
      "cell_type": "markdown",
      "source": [
        "Variabel dan Tipe Data\n",
        "a. Buat 3 variabel bertipe data: int, float, str, dan list."
      ],
      "metadata": {
        "id": "J939Bt4s3Scs"
      }
    },
    {
      "cell_type": "code",
      "source": [
        "angka_int = 5\n",
        "angka_float = 2.5\n",
        "kalimat_string = \"Aku suka telkom\"\n",
        "daftar = [1,2,3,4]\n"
      ],
      "metadata": {
        "id": "BvEqNiJWakmR"
      },
      "execution_count": null,
      "outputs": []
    },
    {
      "cell_type": "markdown",
      "source": [
        "Tampilkan tipe datanya dengan fungsi type()."
      ],
      "metadata": {
        "id": "PHDrLa1Z38sz"
      }
    },
    {
      "cell_type": "code",
      "source": [
        "print(type(angka_int))\n",
        "print(type(angka_float))\n",
        "print(type(kalimat_string))\n",
        "print(type(daftar))"
      ],
      "metadata": {
        "colab": {
          "base_uri": "https://localhost:8080/"
        },
        "id": "iW2Rpc_C4EwI",
        "outputId": "23513a16-c88b-463c-e62c-2bffc6e31672"
      },
      "execution_count": null,
      "outputs": [
        {
          "output_type": "stream",
          "name": "stdout",
          "text": [
            "<class 'int'>\n",
            "<class 'float'>\n",
            "<class 'str'>\n",
            "<class 'list'>\n"
          ]
        }
      ]
    },
    {
      "cell_type": "markdown",
      "source": [
        " Buat list belanja (beras, minyak, dan telur)."
      ],
      "metadata": {
        "id": "ZKM6qi7N4NVB"
      }
    },
    {
      "cell_type": "code",
      "source": [
        "list_belanja = [\"Beras\", \"Minyak\", \"Telur\"]"
      ],
      "metadata": {
        "id": "CDIWQq5b4Pyl"
      },
      "execution_count": null,
      "outputs": []
    },
    {
      "cell_type": "markdown",
      "source": [
        "Kemudian tambahkan item gula dan kopi menggunakan\n",
        "fungsi."
      ],
      "metadata": {
        "id": "aJiw-31D6Bmo"
      }
    },
    {
      "cell_type": "code",
      "source": [
        "list_belanja.append(\"Gula\")\n",
        "list_belanja.append(\"Kopi\")\n",
        "list_belanja"
      ],
      "metadata": {
        "colab": {
          "base_uri": "https://localhost:8080/"
        },
        "id": "3X1IqyTG6Ap7",
        "outputId": "6591722a-2293-4fc2-c02f-c70a295e298d"
      },
      "execution_count": null,
      "outputs": [
        {
          "output_type": "execute_result",
          "data": {
            "text/plain": [
              "['Beras', 'Minyak', 'Telur', 'Gula', 'Kopi']"
            ]
          },
          "metadata": {},
          "execution_count": 78
        }
      ]
    },
    {
      "cell_type": "markdown",
      "source": [
        "Tampilkan semua item dengan perulangan."
      ],
      "metadata": {
        "id": "ayBnDIhw6kaY"
      }
    },
    {
      "cell_type": "code",
      "source": [
        "for item in list_belanja:\n",
        "    print(item)\n",
        "print()"
      ],
      "metadata": {
        "colab": {
          "base_uri": "https://localhost:8080/"
        },
        "id": "A34B5MQb6lXN",
        "outputId": "955874b0-033b-41f1-ca32-6acf2cfffc76"
      },
      "execution_count": null,
      "outputs": [
        {
          "output_type": "stream",
          "name": "stdout",
          "text": [
            "Beras\n",
            "Minyak\n",
            "Telur\n",
            "Gula\n",
            "Kopi\n",
            "\n"
          ]
        }
      ]
    },
    {
      "cell_type": "markdown",
      "source": [
        "Buat dictionary harga belanjaan"
      ],
      "metadata": {
        "id": "WXf8rPw67Ln-"
      }
    },
    {
      "cell_type": "code",
      "source": [
        "harga = {\n",
        "    \"Beras\": 12000,\n",
        "    \"Minyak\": 17000,\n",
        "    \"Telur\": 24000,\n",
        "    \"Gula\": 10000,\n",
        "    \"Kopi\": 15000\n",
        "}\n",
        "harga"
      ],
      "metadata": {
        "colab": {
          "base_uri": "https://localhost:8080/"
        },
        "id": "GtANZy4-7NAu",
        "outputId": "7bc17baa-a247-4cac-b010-2529955e954d"
      },
      "execution_count": null,
      "outputs": [
        {
          "output_type": "execute_result",
          "data": {
            "text/plain": [
              "{'Beras': 12000, 'Minyak': 17000, 'Telur': 24000, 'Gula': 10000, 'Kopi': 15000}"
            ]
          },
          "metadata": {},
          "execution_count": 80
        }
      ]
    },
    {
      "cell_type": "markdown",
      "source": [
        "Hitung dan tampilkan total harga semua belanjaan"
      ],
      "metadata": {
        "id": "MEv-GMiK77sW"
      }
    },
    {
      "cell_type": "code",
      "source": [
        "total = sum(harga.values())"
      ],
      "metadata": {
        "id": "a89fh1qs78_P"
      },
      "execution_count": null,
      "outputs": []
    },
    {
      "cell_type": "code",
      "source": [
        "total"
      ],
      "metadata": {
        "colab": {
          "base_uri": "https://localhost:8080/"
        },
        "id": "8W3NES2G9SoJ",
        "outputId": "680dbbb8-4c2b-46ea-d80e-97180a2bfe60"
      },
      "execution_count": null,
      "outputs": [
        {
          "output_type": "execute_result",
          "data": {
            "text/plain": [
              "78000"
            ]
          },
          "metadata": {},
          "execution_count": 82
        }
      ]
    },
    {
      "cell_type": "code",
      "source": [
        "usia = int(input(\"Masukkan usia :\"))\n",
        "\n",
        "if 0 <= usia <= 12:\n",
        "    print(\"Anak-anak\")\n",
        "elif 13 <= usia <= 19:\n",
        "    print(\"Remaja\")\n",
        "elif 20 <= usia <= 49:\n",
        "    print(\"Dewasa\")\n",
        "elif usia >= 50:\n",
        "    print(\"Lansia\")\n",
        "else:\n",
        "    print(\"Angka Umur Invalid\")"
      ],
      "metadata": {
        "id": "MRF8bwkCAdh8"
      },
      "execution_count": null,
      "outputs": []
    }
  ]
}